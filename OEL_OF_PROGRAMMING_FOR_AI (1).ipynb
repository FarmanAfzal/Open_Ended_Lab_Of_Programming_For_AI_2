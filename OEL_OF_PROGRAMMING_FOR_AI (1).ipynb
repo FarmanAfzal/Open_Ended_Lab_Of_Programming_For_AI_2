{
  "nbformat": 4,
  "nbformat_minor": 0,
  "metadata": {
    "colab": {
      "provenance": []
    },
    "kernelspec": {
      "name": "python3",
      "display_name": "Python 3"
    },
    "language_info": {
      "name": "python"
    }
  },
  "cells": [
    {
      "cell_type": "markdown",
      "source": [
        "1. Implement Depth First Search to find any path from A to G."
      ],
      "metadata": {
        "id": "C3EY2od-4AGW"
      }
    },
    {
      "cell_type": "code",
      "execution_count": null,
      "metadata": {
        "colab": {
          "base_uri": "https://localhost:8080/"
        },
        "id": "HJt_HPUM3gZP",
        "outputId": "6ad2c306-deda-4ff7-8bb0-785ad119575d"
      },
      "outputs": [
        {
          "output_type": "stream",
          "name": "stdout",
          "text": [
            "🔹 DFS Path: ['A', 'C', 'F', 'G']\n",
            "🔹 DFS Total Distance: 7\n"
          ]
        }
      ],
      "source": [
        "# Depth First Search implementation\n",
        "def dfs_path(graph, start, goal):\n",
        "    stack = [(start, [start], 0)]  # (current_node, path_so_far, total_cost)\n",
        "    visited = set()\n",
        "\n",
        "    while stack:\n",
        "        node, path, cost = stack.pop()\n",
        "        if node == goal:\n",
        "            return path, cost\n",
        "        if node not in visited:\n",
        "            visited.add(node)\n",
        "            for neighbor, weight in graph[node]:\n",
        "                stack.append((neighbor, path + [neighbor], cost + weight))\n",
        "    return None, float('inf')\n",
        "\n",
        "# Given graph\n",
        "graph = {\n",
        "    'A': [('B', 6), ('C', 2)],\n",
        "    'B': [('D', 5), ('E', 3)],\n",
        "    'C': [('F', 4)],\n",
        "    'D': [('G', 2)],\n",
        "    'E': [('G', 6)],\n",
        "    'F': [('G', 1)],\n",
        "    'G': []\n",
        "}\n",
        "\n",
        "# Run DFS\n",
        "dfs_result, dfs_cost = dfs_path(graph, 'A', 'G')\n",
        "\n",
        "print(\"🔹 DFS Path:\", dfs_result)\n",
        "print(\"🔹 DFS Total Distance:\", dfs_cost)\n"
      ]
    },
    {
      "cell_type": "markdown",
      "source": [
        " 2: Implement A Search using given heuristic values*"
      ],
      "metadata": {
        "id": "HhnPB_3K4L1B"
      }
    },
    {
      "cell_type": "code",
      "source": [
        "from heapq import heappush, heappop\n",
        "\n",
        "# A* Search implementation\n",
        "import heapq\n",
        "\n",
        "def a_star(graph, start, goal, heuristic):\n",
        "    q = []\n",
        "    heapq.heappush(q, (0, [start]))\n",
        "    while q:\n",
        "        f, path = heapq.heappop(q)\n",
        "        node = path[-1]\n",
        "        if node == goal:\n",
        "            return path\n",
        "        for neigh, w in graph[node]:\n",
        "            if neigh not in path:\n",
        "                g = len(path)\n",
        "                h = heuristic[neigh]\n",
        "                heapq.heappush(q, (g + h, path + [neigh]))\n",
        "    return []\n",
        "\n",
        "astar_path = a_star(graph, 'A', 'G', heuristic)\n",
        "print(\"A* Path:\", astar_path)\n",
        "\n",
        "# Heuristic values\n",
        "h = {\n",
        "    'A': 7, 'B': 6, 'C': 4,\n",
        "    'D': 3, 'E': 5, 'F': 2,\n",
        "    'G': 0\n",
        "}\n",
        "\n"
      ],
      "metadata": {
        "colab": {
          "base_uri": "https://localhost:8080/",
          "height": 211
        },
        "id": "5umsb-XY4ISf",
        "outputId": "b114568a-d070-4fad-c357-a3ac77086d3e"
      },
      "execution_count": 4,
      "outputs": [
        {
          "output_type": "error",
          "ename": "NameError",
          "evalue": "name 'heuristic' is not defined",
          "traceback": [
            "\u001b[0;31m---------------------------------------------------------------------------\u001b[0m",
            "\u001b[0;31mNameError\u001b[0m                                 Traceback (most recent call last)",
            "\u001b[0;32m<ipython-input-4-36ff21494e18>\u001b[0m in \u001b[0;36m<cell line: 0>\u001b[0;34m()\u001b[0m\n\u001b[1;32m     19\u001b[0m     \u001b[0;32mreturn\u001b[0m \u001b[0;34m[\u001b[0m\u001b[0;34m]\u001b[0m\u001b[0;34m\u001b[0m\u001b[0;34m\u001b[0m\u001b[0m\n\u001b[1;32m     20\u001b[0m \u001b[0;34m\u001b[0m\u001b[0m\n\u001b[0;32m---> 21\u001b[0;31m \u001b[0mastar_path\u001b[0m \u001b[0;34m=\u001b[0m \u001b[0ma_star\u001b[0m\u001b[0;34m(\u001b[0m\u001b[0mgraph\u001b[0m\u001b[0;34m,\u001b[0m \u001b[0;34m'A'\u001b[0m\u001b[0;34m,\u001b[0m \u001b[0;34m'G'\u001b[0m\u001b[0;34m,\u001b[0m \u001b[0mheuristic\u001b[0m\u001b[0;34m)\u001b[0m\u001b[0;34m\u001b[0m\u001b[0;34m\u001b[0m\u001b[0m\n\u001b[0m\u001b[1;32m     22\u001b[0m \u001b[0mprint\u001b[0m\u001b[0;34m(\u001b[0m\u001b[0;34m\"A* Path:\"\u001b[0m\u001b[0;34m,\u001b[0m \u001b[0mastar_path\u001b[0m\u001b[0;34m)\u001b[0m\u001b[0;34m\u001b[0m\u001b[0;34m\u001b[0m\u001b[0m\n\u001b[1;32m     23\u001b[0m \u001b[0;34m\u001b[0m\u001b[0m\n",
            "\u001b[0;31mNameError\u001b[0m: name 'heuristic' is not defined"
          ]
        }
      ]
    }
  ]
}